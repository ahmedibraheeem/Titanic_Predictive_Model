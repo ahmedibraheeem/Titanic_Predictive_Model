{
 "cells": [
  {
   "cell_type": "code",
   "execution_count": 1,
   "id": "d6f384a7",
   "metadata": {
    "execution": {
     "iopub.execute_input": "2023-01-21T08:15:17.584133Z",
     "iopub.status.busy": "2023-01-21T08:15:17.583481Z",
     "iopub.status.idle": "2023-01-21T08:15:17.595505Z",
     "shell.execute_reply": "2023-01-21T08:15:17.594537Z"
    },
    "papermill": {
     "duration": 0.030478,
     "end_time": "2023-01-21T08:15:17.598014",
     "exception": false,
     "start_time": "2023-01-21T08:15:17.567536",
     "status": "completed"
    },
    "tags": []
   },
   "outputs": [],
   "source": [
    "import numpy as np\n",
    "import pandas as pd\n",
    "import matplotlib.pyplot as plt"
   ]
  },
  {
   "cell_type": "markdown",
   "id": "d9791d75",
   "metadata": {
    "papermill": {
     "duration": 0.009896,
     "end_time": "2023-01-21T08:15:17.617815",
     "exception": false,
     "start_time": "2023-01-21T08:15:17.607919",
     "status": "completed"
    },
    "tags": []
   },
   "source": [
    "## Reading train data"
   ]
  },
  {
   "cell_type": "code",
   "execution_count": 2,
   "id": "4ae0b97f",
   "metadata": {
    "execution": {
     "iopub.execute_input": "2023-01-21T08:15:17.642189Z",
     "iopub.status.busy": "2023-01-21T08:15:17.641184Z",
     "iopub.status.idle": "2023-01-21T08:15:17.666699Z",
     "shell.execute_reply": "2023-01-21T08:15:17.665555Z"
    },
    "papermill": {
     "duration": 0.041655,
     "end_time": "2023-01-21T08:15:17.669441",
     "exception": false,
     "start_time": "2023-01-21T08:15:17.627786",
     "status": "completed"
    },
    "tags": []
   },
   "outputs": [],
   "source": [
    "titanic_data = pd.read_csv('/kaggle/input/titanic/train.csv')"
   ]
  },
  {
   "cell_type": "code",
   "execution_count": 3,
   "id": "234ccdc8",
   "metadata": {
    "execution": {
     "iopub.execute_input": "2023-01-21T08:15:17.691815Z",
     "iopub.status.busy": "2023-01-21T08:15:17.690769Z",
     "iopub.status.idle": "2023-01-21T08:15:17.716006Z",
     "shell.execute_reply": "2023-01-21T08:15:17.715089Z"
    },
    "papermill": {
     "duration": 0.038742,
     "end_time": "2023-01-21T08:15:17.718471",
     "exception": false,
     "start_time": "2023-01-21T08:15:17.679729",
     "status": "completed"
    },
    "tags": []
   },
   "outputs": [
    {
     "data": {
      "text/html": [
       "<div>\n",
       "<style scoped>\n",
       "    .dataframe tbody tr th:only-of-type {\n",
       "        vertical-align: middle;\n",
       "    }\n",
       "\n",
       "    .dataframe tbody tr th {\n",
       "        vertical-align: top;\n",
       "    }\n",
       "\n",
       "    .dataframe thead th {\n",
       "        text-align: right;\n",
       "    }\n",
       "</style>\n",
       "<table border=\"1\" class=\"dataframe\">\n",
       "  <thead>\n",
       "    <tr style=\"text-align: right;\">\n",
       "      <th></th>\n",
       "      <th>PassengerId</th>\n",
       "      <th>Survived</th>\n",
       "      <th>Pclass</th>\n",
       "      <th>Name</th>\n",
       "      <th>Sex</th>\n",
       "      <th>Age</th>\n",
       "      <th>SibSp</th>\n",
       "      <th>Parch</th>\n",
       "      <th>Ticket</th>\n",
       "      <th>Fare</th>\n",
       "      <th>Cabin</th>\n",
       "      <th>Embarked</th>\n",
       "    </tr>\n",
       "  </thead>\n",
       "  <tbody>\n",
       "    <tr>\n",
       "      <th>0</th>\n",
       "      <td>1</td>\n",
       "      <td>0</td>\n",
       "      <td>3</td>\n",
       "      <td>Braund, Mr. Owen Harris</td>\n",
       "      <td>male</td>\n",
       "      <td>22.0</td>\n",
       "      <td>1</td>\n",
       "      <td>0</td>\n",
       "      <td>A/5 21171</td>\n",
       "      <td>7.2500</td>\n",
       "      <td>NaN</td>\n",
       "      <td>S</td>\n",
       "    </tr>\n",
       "    <tr>\n",
       "      <th>1</th>\n",
       "      <td>2</td>\n",
       "      <td>1</td>\n",
       "      <td>1</td>\n",
       "      <td>Cumings, Mrs. John Bradley (Florence Briggs Th...</td>\n",
       "      <td>female</td>\n",
       "      <td>38.0</td>\n",
       "      <td>1</td>\n",
       "      <td>0</td>\n",
       "      <td>PC 17599</td>\n",
       "      <td>71.2833</td>\n",
       "      <td>C85</td>\n",
       "      <td>C</td>\n",
       "    </tr>\n",
       "    <tr>\n",
       "      <th>2</th>\n",
       "      <td>3</td>\n",
       "      <td>1</td>\n",
       "      <td>3</td>\n",
       "      <td>Heikkinen, Miss. Laina</td>\n",
       "      <td>female</td>\n",
       "      <td>26.0</td>\n",
       "      <td>0</td>\n",
       "      <td>0</td>\n",
       "      <td>STON/O2. 3101282</td>\n",
       "      <td>7.9250</td>\n",
       "      <td>NaN</td>\n",
       "      <td>S</td>\n",
       "    </tr>\n",
       "    <tr>\n",
       "      <th>3</th>\n",
       "      <td>4</td>\n",
       "      <td>1</td>\n",
       "      <td>1</td>\n",
       "      <td>Futrelle, Mrs. Jacques Heath (Lily May Peel)</td>\n",
       "      <td>female</td>\n",
       "      <td>35.0</td>\n",
       "      <td>1</td>\n",
       "      <td>0</td>\n",
       "      <td>113803</td>\n",
       "      <td>53.1000</td>\n",
       "      <td>C123</td>\n",
       "      <td>S</td>\n",
       "    </tr>\n",
       "    <tr>\n",
       "      <th>4</th>\n",
       "      <td>5</td>\n",
       "      <td>0</td>\n",
       "      <td>3</td>\n",
       "      <td>Allen, Mr. William Henry</td>\n",
       "      <td>male</td>\n",
       "      <td>35.0</td>\n",
       "      <td>0</td>\n",
       "      <td>0</td>\n",
       "      <td>373450</td>\n",
       "      <td>8.0500</td>\n",
       "      <td>NaN</td>\n",
       "      <td>S</td>\n",
       "    </tr>\n",
       "  </tbody>\n",
       "</table>\n",
       "</div>"
      ],
      "text/plain": [
       "   PassengerId  Survived  Pclass  \\\n",
       "0            1         0       3   \n",
       "1            2         1       1   \n",
       "2            3         1       3   \n",
       "3            4         1       1   \n",
       "4            5         0       3   \n",
       "\n",
       "                                                Name     Sex   Age  SibSp  \\\n",
       "0                            Braund, Mr. Owen Harris    male  22.0      1   \n",
       "1  Cumings, Mrs. John Bradley (Florence Briggs Th...  female  38.0      1   \n",
       "2                             Heikkinen, Miss. Laina  female  26.0      0   \n",
       "3       Futrelle, Mrs. Jacques Heath (Lily May Peel)  female  35.0      1   \n",
       "4                           Allen, Mr. William Henry    male  35.0      0   \n",
       "\n",
       "   Parch            Ticket     Fare Cabin Embarked  \n",
       "0      0         A/5 21171   7.2500   NaN        S  \n",
       "1      0          PC 17599  71.2833   C85        C  \n",
       "2      0  STON/O2. 3101282   7.9250   NaN        S  \n",
       "3      0            113803  53.1000  C123        S  \n",
       "4      0            373450   8.0500   NaN        S  "
      ]
     },
     "execution_count": 3,
     "metadata": {},
     "output_type": "execute_result"
    }
   ],
   "source": [
    "titanic_data.head()"
   ]
  },
  {
   "cell_type": "code",
   "execution_count": 4,
   "id": "6199e528",
   "metadata": {
    "execution": {
     "iopub.execute_input": "2023-01-21T08:15:17.741515Z",
     "iopub.status.busy": "2023-01-21T08:15:17.740742Z",
     "iopub.status.idle": "2023-01-21T08:15:17.786108Z",
     "shell.execute_reply": "2023-01-21T08:15:17.784738Z"
    },
    "papermill": {
     "duration": 0.05992,
     "end_time": "2023-01-21T08:15:17.789032",
     "exception": false,
     "start_time": "2023-01-21T08:15:17.729112",
     "status": "completed"
    },
    "tags": []
   },
   "outputs": [
    {
     "data": {
      "text/html": [
       "<div>\n",
       "<style scoped>\n",
       "    .dataframe tbody tr th:only-of-type {\n",
       "        vertical-align: middle;\n",
       "    }\n",
       "\n",
       "    .dataframe tbody tr th {\n",
       "        vertical-align: top;\n",
       "    }\n",
       "\n",
       "    .dataframe thead th {\n",
       "        text-align: right;\n",
       "    }\n",
       "</style>\n",
       "<table border=\"1\" class=\"dataframe\">\n",
       "  <thead>\n",
       "    <tr style=\"text-align: right;\">\n",
       "      <th></th>\n",
       "      <th>PassengerId</th>\n",
       "      <th>Survived</th>\n",
       "      <th>Pclass</th>\n",
       "      <th>Age</th>\n",
       "      <th>SibSp</th>\n",
       "      <th>Parch</th>\n",
       "      <th>Fare</th>\n",
       "    </tr>\n",
       "  </thead>\n",
       "  <tbody>\n",
       "    <tr>\n",
       "      <th>count</th>\n",
       "      <td>891.000000</td>\n",
       "      <td>891.000000</td>\n",
       "      <td>891.000000</td>\n",
       "      <td>714.000000</td>\n",
       "      <td>891.000000</td>\n",
       "      <td>891.000000</td>\n",
       "      <td>891.000000</td>\n",
       "    </tr>\n",
       "    <tr>\n",
       "      <th>mean</th>\n",
       "      <td>446.000000</td>\n",
       "      <td>0.383838</td>\n",
       "      <td>2.308642</td>\n",
       "      <td>29.699118</td>\n",
       "      <td>0.523008</td>\n",
       "      <td>0.381594</td>\n",
       "      <td>32.204208</td>\n",
       "    </tr>\n",
       "    <tr>\n",
       "      <th>std</th>\n",
       "      <td>257.353842</td>\n",
       "      <td>0.486592</td>\n",
       "      <td>0.836071</td>\n",
       "      <td>14.526497</td>\n",
       "      <td>1.102743</td>\n",
       "      <td>0.806057</td>\n",
       "      <td>49.693429</td>\n",
       "    </tr>\n",
       "    <tr>\n",
       "      <th>min</th>\n",
       "      <td>1.000000</td>\n",
       "      <td>0.000000</td>\n",
       "      <td>1.000000</td>\n",
       "      <td>0.420000</td>\n",
       "      <td>0.000000</td>\n",
       "      <td>0.000000</td>\n",
       "      <td>0.000000</td>\n",
       "    </tr>\n",
       "    <tr>\n",
       "      <th>25%</th>\n",
       "      <td>223.500000</td>\n",
       "      <td>0.000000</td>\n",
       "      <td>2.000000</td>\n",
       "      <td>20.125000</td>\n",
       "      <td>0.000000</td>\n",
       "      <td>0.000000</td>\n",
       "      <td>7.910400</td>\n",
       "    </tr>\n",
       "    <tr>\n",
       "      <th>50%</th>\n",
       "      <td>446.000000</td>\n",
       "      <td>0.000000</td>\n",
       "      <td>3.000000</td>\n",
       "      <td>28.000000</td>\n",
       "      <td>0.000000</td>\n",
       "      <td>0.000000</td>\n",
       "      <td>14.454200</td>\n",
       "    </tr>\n",
       "    <tr>\n",
       "      <th>75%</th>\n",
       "      <td>668.500000</td>\n",
       "      <td>1.000000</td>\n",
       "      <td>3.000000</td>\n",
       "      <td>38.000000</td>\n",
       "      <td>1.000000</td>\n",
       "      <td>0.000000</td>\n",
       "      <td>31.000000</td>\n",
       "    </tr>\n",
       "    <tr>\n",
       "      <th>max</th>\n",
       "      <td>891.000000</td>\n",
       "      <td>1.000000</td>\n",
       "      <td>3.000000</td>\n",
       "      <td>80.000000</td>\n",
       "      <td>8.000000</td>\n",
       "      <td>6.000000</td>\n",
       "      <td>512.329200</td>\n",
       "    </tr>\n",
       "  </tbody>\n",
       "</table>\n",
       "</div>"
      ],
      "text/plain": [
       "       PassengerId    Survived      Pclass         Age       SibSp  \\\n",
       "count   891.000000  891.000000  891.000000  714.000000  891.000000   \n",
       "mean    446.000000    0.383838    2.308642   29.699118    0.523008   \n",
       "std     257.353842    0.486592    0.836071   14.526497    1.102743   \n",
       "min       1.000000    0.000000    1.000000    0.420000    0.000000   \n",
       "25%     223.500000    0.000000    2.000000   20.125000    0.000000   \n",
       "50%     446.000000    0.000000    3.000000   28.000000    0.000000   \n",
       "75%     668.500000    1.000000    3.000000   38.000000    1.000000   \n",
       "max     891.000000    1.000000    3.000000   80.000000    8.000000   \n",
       "\n",
       "            Parch        Fare  \n",
       "count  891.000000  891.000000  \n",
       "mean     0.381594   32.204208  \n",
       "std      0.806057   49.693429  \n",
       "min      0.000000    0.000000  \n",
       "25%      0.000000    7.910400  \n",
       "50%      0.000000   14.454200  \n",
       "75%      0.000000   31.000000  \n",
       "max      6.000000  512.329200  "
      ]
     },
     "execution_count": 4,
     "metadata": {},
     "output_type": "execute_result"
    }
   ],
   "source": [
    "titanic_data.describe()"
   ]
  },
  {
   "cell_type": "markdown",
   "id": "db5f3881",
   "metadata": {
    "papermill": {
     "duration": 0.010021,
     "end_time": "2023-01-21T08:15:17.809564",
     "exception": false,
     "start_time": "2023-01-21T08:15:17.799543",
     "status": "completed"
    },
    "tags": []
   },
   "source": [
    "## Feature Corrolation Heatmap"
   ]
  },
  {
   "cell_type": "code",
   "execution_count": 5,
   "id": "24fdadc0",
   "metadata": {
    "execution": {
     "iopub.execute_input": "2023-01-21T08:15:17.831992Z",
     "iopub.status.busy": "2023-01-21T08:15:17.831555Z",
     "iopub.status.idle": "2023-01-21T08:15:19.325111Z",
     "shell.execute_reply": "2023-01-21T08:15:19.323902Z"
    },
    "papermill": {
     "duration": 1.508395,
     "end_time": "2023-01-21T08:15:19.328330",
     "exception": false,
     "start_time": "2023-01-21T08:15:17.819935",
     "status": "completed"
    },
    "tags": []
   },
   "outputs": [
    {
     "data": {
      "image/png": "[encoded data removed]",
      "text/plain": [
       "<Figure size 432x288 with 2 Axes>"
      ]
     },
     "metadata": {
      "needs_background": "light"
     },
     "output_type": "display_data"
    }
   ],
   "source": [
    "import seaborn as sns\n",
    "sns.heatmap(titanic_data.corr(),cmap=\"YlGnBu\")\n",
    "plt.show()"
   ]
  },
  {
   "cell_type": "markdown",
   "id": "08884f72",
   "metadata": {
    "papermill": {
     "duration": 0.010196,
     "end_time": "2023-01-21T08:15:19.349285",
     "exception": false,
     "start_time": "2023-01-21T08:15:19.339089",
     "status": "completed"
    },
    "tags": []
   },
   "source": [
    "## Creating Stratified Dataset"
   ]
  },
  {
   "cell_type": "code",
   "execution_count": 6,
   "id": "58f3e799",
   "metadata": {
    "execution": {
     "iopub.execute_input": "2023-01-21T08:15:19.371906Z",
     "iopub.status.busy": "2023-01-21T08:15:19.371526Z",
     "iopub.status.idle": "2023-01-21T08:15:19.604898Z",
     "shell.execute_reply": "2023-01-21T08:15:19.603867Z"
    },
    "papermill": {
     "duration": 0.247919,
     "end_time": "2023-01-21T08:15:19.607600",
     "exception": false,
     "start_time": "2023-01-21T08:15:19.359681",
     "status": "completed"
    },
    "tags": []
   },
   "outputs": [],
   "source": [
    "from sklearn.model_selection import StratifiedShuffleSplit\n",
    "split_data = StratifiedShuffleSplit(n_splits=1, test_size=0.2)\n",
    "for train_index, test_index in split_data.split(titanic_data,titanic_data[[\"Survived\",\"Pclass\",\"Sex\"]]):\n",
    "    strat_train_set = titanic_data.loc[train_index]\n",
    "    strat_test_set = titanic_data.loc[test_index]"
   ]
  },
  {
   "cell_type": "code",
   "execution_count": 7,
   "id": "f4f18d34",
   "metadata": {
    "execution": {
     "iopub.execute_input": "2023-01-21T08:15:19.631819Z",
     "iopub.status.busy": "2023-01-21T08:15:19.630748Z",
     "iopub.status.idle": "2023-01-21T08:15:19.653416Z",
     "shell.execute_reply": "2023-01-21T08:15:19.652592Z"
    },
    "papermill": {
     "duration": 0.037514,
     "end_time": "2023-01-21T08:15:19.655760",
     "exception": false,
     "start_time": "2023-01-21T08:15:19.618246",
     "status": "completed"
    },
    "tags": []
   },
   "outputs": [
    {
     "data": {
      "text/html": [
       "<div>\n",
       "<style scoped>\n",
       "    .dataframe tbody tr th:only-of-type {\n",
       "        vertical-align: middle;\n",
       "    }\n",
       "\n",
       "    .dataframe tbody tr th {\n",
       "        vertical-align: top;\n",
       "    }\n",
       "\n",
       "    .dataframe thead th {\n",
       "        text-align: right;\n",
       "    }\n",
       "</style>\n",
       "<table border=\"1\" class=\"dataframe\">\n",
       "  <thead>\n",
       "    <tr style=\"text-align: right;\">\n",
       "      <th></th>\n",
       "      <th>PassengerId</th>\n",
       "      <th>Survived</th>\n",
       "      <th>Pclass</th>\n",
       "      <th>Name</th>\n",
       "      <th>Sex</th>\n",
       "      <th>Age</th>\n",
       "      <th>SibSp</th>\n",
       "      <th>Parch</th>\n",
       "      <th>Ticket</th>\n",
       "      <th>Fare</th>\n",
       "      <th>Cabin</th>\n",
       "      <th>Embarked</th>\n",
       "    </tr>\n",
       "  </thead>\n",
       "  <tbody>\n",
       "    <tr>\n",
       "      <th>698</th>\n",
       "      <td>699</td>\n",
       "      <td>0</td>\n",
       "      <td>1</td>\n",
       "      <td>Thayer, Mr. John Borland</td>\n",
       "      <td>male</td>\n",
       "      <td>49.0</td>\n",
       "      <td>1</td>\n",
       "      <td>1</td>\n",
       "      <td>17421</td>\n",
       "      <td>110.8833</td>\n",
       "      <td>C68</td>\n",
       "      <td>C</td>\n",
       "    </tr>\n",
       "    <tr>\n",
       "      <th>673</th>\n",
       "      <td>674</td>\n",
       "      <td>1</td>\n",
       "      <td>2</td>\n",
       "      <td>Wilhelms, Mr. Charles</td>\n",
       "      <td>male</td>\n",
       "      <td>31.0</td>\n",
       "      <td>0</td>\n",
       "      <td>0</td>\n",
       "      <td>244270</td>\n",
       "      <td>13.0000</td>\n",
       "      <td>NaN</td>\n",
       "      <td>S</td>\n",
       "    </tr>\n",
       "    <tr>\n",
       "      <th>311</th>\n",
       "      <td>312</td>\n",
       "      <td>1</td>\n",
       "      <td>1</td>\n",
       "      <td>Ryerson, Miss. Emily Borie</td>\n",
       "      <td>female</td>\n",
       "      <td>18.0</td>\n",
       "      <td>2</td>\n",
       "      <td>2</td>\n",
       "      <td>PC 17608</td>\n",
       "      <td>262.3750</td>\n",
       "      <td>B57 B59 B63 B66</td>\n",
       "      <td>C</td>\n",
       "    </tr>\n",
       "    <tr>\n",
       "      <th>443</th>\n",
       "      <td>444</td>\n",
       "      <td>1</td>\n",
       "      <td>2</td>\n",
       "      <td>Reynaldo, Ms. Encarnacion</td>\n",
       "      <td>female</td>\n",
       "      <td>28.0</td>\n",
       "      <td>0</td>\n",
       "      <td>0</td>\n",
       "      <td>230434</td>\n",
       "      <td>13.0000</td>\n",
       "      <td>NaN</td>\n",
       "      <td>S</td>\n",
       "    </tr>\n",
       "    <tr>\n",
       "      <th>425</th>\n",
       "      <td>426</td>\n",
       "      <td>0</td>\n",
       "      <td>3</td>\n",
       "      <td>Wiseman, Mr. Phillippe</td>\n",
       "      <td>male</td>\n",
       "      <td>NaN</td>\n",
       "      <td>0</td>\n",
       "      <td>0</td>\n",
       "      <td>A/4. 34244</td>\n",
       "      <td>7.2500</td>\n",
       "      <td>NaN</td>\n",
       "      <td>S</td>\n",
       "    </tr>\n",
       "    <tr>\n",
       "      <th>...</th>\n",
       "      <td>...</td>\n",
       "      <td>...</td>\n",
       "      <td>...</td>\n",
       "      <td>...</td>\n",
       "      <td>...</td>\n",
       "      <td>...</td>\n",
       "      <td>...</td>\n",
       "      <td>...</td>\n",
       "      <td>...</td>\n",
       "      <td>...</td>\n",
       "      <td>...</td>\n",
       "      <td>...</td>\n",
       "    </tr>\n",
       "    <tr>\n",
       "      <th>573</th>\n",
       "      <td>574</td>\n",
       "      <td>1</td>\n",
       "      <td>3</td>\n",
       "      <td>Kelly, Miss. Mary</td>\n",
       "      <td>female</td>\n",
       "      <td>NaN</td>\n",
       "      <td>0</td>\n",
       "      <td>0</td>\n",
       "      <td>14312</td>\n",
       "      <td>7.7500</td>\n",
       "      <td>NaN</td>\n",
       "      <td>Q</td>\n",
       "    </tr>\n",
       "    <tr>\n",
       "      <th>840</th>\n",
       "      <td>841</td>\n",
       "      <td>0</td>\n",
       "      <td>3</td>\n",
       "      <td>Alhomaki, Mr. Ilmari Rudolf</td>\n",
       "      <td>male</td>\n",
       "      <td>20.0</td>\n",
       "      <td>0</td>\n",
       "      <td>0</td>\n",
       "      <td>SOTON/O2 3101287</td>\n",
       "      <td>7.9250</td>\n",
       "      <td>NaN</td>\n",
       "      <td>S</td>\n",
       "    </tr>\n",
       "    <tr>\n",
       "      <th>586</th>\n",
       "      <td>587</td>\n",
       "      <td>0</td>\n",
       "      <td>2</td>\n",
       "      <td>Jarvis, Mr. John Denzil</td>\n",
       "      <td>male</td>\n",
       "      <td>47.0</td>\n",
       "      <td>0</td>\n",
       "      <td>0</td>\n",
       "      <td>237565</td>\n",
       "      <td>15.0000</td>\n",
       "      <td>NaN</td>\n",
       "      <td>S</td>\n",
       "    </tr>\n",
       "    <tr>\n",
       "      <th>547</th>\n",
       "      <td>548</td>\n",
       "      <td>1</td>\n",
       "      <td>2</td>\n",
       "      <td>Padro y Manent, Mr. Julian</td>\n",
       "      <td>male</td>\n",
       "      <td>NaN</td>\n",
       "      <td>0</td>\n",
       "      <td>0</td>\n",
       "      <td>SC/PARIS 2146</td>\n",
       "      <td>13.8625</td>\n",
       "      <td>NaN</td>\n",
       "      <td>C</td>\n",
       "    </tr>\n",
       "    <tr>\n",
       "      <th>736</th>\n",
       "      <td>737</td>\n",
       "      <td>0</td>\n",
       "      <td>3</td>\n",
       "      <td>Ford, Mrs. Edward (Margaret Ann Watson)</td>\n",
       "      <td>female</td>\n",
       "      <td>48.0</td>\n",
       "      <td>1</td>\n",
       "      <td>3</td>\n",
       "      <td>W./C. 6608</td>\n",
       "      <td>34.3750</td>\n",
       "      <td>NaN</td>\n",
       "      <td>S</td>\n",
       "    </tr>\n",
       "  </tbody>\n",
       "</table>\n",
       "<p>179 rows × 12 columns</p>\n",
       "</div>"
      ],
      "text/plain": [
       "     PassengerId  Survived  Pclass                                     Name  \\\n",
       "698          699         0       1                 Thayer, Mr. John Borland   \n",
       "673          674         1       2                    Wilhelms, Mr. Charles   \n",
       "311          312         1       1               Ryerson, Miss. Emily Borie   \n",
       "443          444         1       2                Reynaldo, Ms. Encarnacion   \n",
       "425          426         0       3                   Wiseman, Mr. Phillippe   \n",
       "..           ...       ...     ...                                      ...   \n",
       "573          574         1       3                        Kelly, Miss. Mary   \n",
       "840          841         0       3              Alhomaki, Mr. Ilmari Rudolf   \n",
       "586          587         0       2                  Jarvis, Mr. John Denzil   \n",
       "547          548         1       2               Padro y Manent, Mr. Julian   \n",
       "736          737         0       3  Ford, Mrs. Edward (Margaret Ann Watson)   \n",
       "\n",
       "        Sex   Age  SibSp  Parch            Ticket      Fare            Cabin  \\\n",
       "698    male  49.0      1      1             17421  110.8833              C68   \n",
       "673    male  31.0      0      0            244270   13.0000              NaN   \n",
       "311  female  18.0      2      2          PC 17608  262.3750  B57 B59 B63 B66   \n",
       "443  female  28.0      0      0            230434   13.0000              NaN   \n",
       "425    male   NaN      0      0        A/4. 34244    7.2500              NaN   \n",
       "..      ...   ...    ...    ...               ...       ...              ...   \n",
       "573  female   NaN      0      0             14312    7.7500              NaN   \n",
       "840    male  20.0      0      0  SOTON/O2 3101287    7.9250              NaN   \n",
       "586    male  47.0      0      0            237565   15.0000              NaN   \n",
       "547    male   NaN      0      0     SC/PARIS 2146   13.8625              NaN   \n",
       "736  female  48.0      1      3        W./C. 6608   34.3750              NaN   \n",
       "\n",
       "    Embarked  \n",
       "698        C  \n",
       "673        S  \n",
       "311        C  \n",
       "443        S  \n",
       "425        S  \n",
       "..       ...  \n",
       "573        Q  \n",
       "840        S  \n",
       "586        S  \n",
       "547        C  \n",
       "736        S  \n",
       "\n",
       "[179 rows x 12 columns]"
      ]
     },
     "execution_count": 7,
     "metadata": {},
     "output_type": "execute_result"
    }
   ],
   "source": [
    "strat_test_set"
   ]
  },
  {
   "cell_type": "markdown",
   "id": "b0c086aa",
   "metadata": {
    "papermill": {
     "duration": 0.010758,
     "end_time": "2023-01-21T08:15:19.677594",
     "exception": false,
     "start_time": "2023-01-21T08:15:19.666836",
     "status": "completed"
    },
    "tags": []
   },
   "source": [
    "### Comparing the destribution of \"Survived\",\"Pclass\" in the Stratified train and test dataset"
   ]
  },
  {
   "cell_type": "code",
   "execution_count": 8,
   "id": "121e7f6b",
   "metadata": {
    "execution": {
     "iopub.execute_input": "2023-01-21T08:15:19.702976Z",
     "iopub.status.busy": "2023-01-21T08:15:19.701821Z",
     "iopub.status.idle": "2023-01-21T08:15:20.058182Z",
     "shell.execute_reply": "2023-01-21T08:15:20.056954Z"
    },
    "papermill": {
     "duration": 0.372245,
     "end_time": "2023-01-21T08:15:20.060868",
     "exception": false,
     "start_time": "2023-01-21T08:15:19.688623",
     "status": "completed"
    },
    "tags": []
   },
   "outputs": [
    {
     "data": {
      "image/png": "[encoded data removed]",
      "text/plain": [
       "<Figure size 432x288 with 2 Axes>"
      ]
     },
     "metadata": {
      "needs_background": "light"
     },
     "output_type": "display_data"
    }
   ],
   "source": [
    "plt.subplot(1,2,1)\n",
    "strat_train_set[\"Survived\"].hist()\n",
    "strat_train_set[\"Pclass\"].hist()\n",
    "\n",
    "plt.subplot(1,2,2)\n",
    "\n",
    "strat_test_set[\"Survived\"].hist()\n",
    "strat_test_set[\"Pclass\"].hist()\n",
    "\n",
    "plt.show()"
   ]
  },
  {
   "cell_type": "markdown",
   "id": "d4bdd23d",
   "metadata": {
    "papermill": {
     "duration": 0.010899,
     "end_time": "2023-01-21T08:15:20.083014",
     "exception": false,
     "start_time": "2023-01-21T08:15:20.072115",
     "status": "completed"
    },
    "tags": []
   },
   "source": [
    "## Data Validation"
   ]
  },
  {
   "cell_type": "code",
   "execution_count": 9,
   "id": "e160ddc3",
   "metadata": {
    "execution": {
     "iopub.execute_input": "2023-01-21T08:15:20.107205Z",
     "iopub.status.busy": "2023-01-21T08:15:20.106770Z",
     "iopub.status.idle": "2023-01-21T08:15:20.125377Z",
     "shell.execute_reply": "2023-01-21T08:15:20.123721Z"
    },
    "papermill": {
     "duration": 0.035322,
     "end_time": "2023-01-21T08:15:20.129506",
     "exception": false,
     "start_time": "2023-01-21T08:15:20.094184",
     "status": "completed"
    },
    "tags": []
   },
   "outputs": [
    {
     "name": "stdout",
     "output_type": "stream",
     "text": [
      "<class 'pandas.core.frame.DataFrame'>\n",
      "Int64Index: 712 entries, 607 to 219\n",
      "Data columns (total 12 columns):\n",
      " #   Column       Non-Null Count  Dtype  \n",
      "---  ------       --------------  -----  \n",
      " 0   PassengerId  712 non-null    int64  \n",
      " 1   Survived     712 non-null    int64  \n",
      " 2   Pclass       712 non-null    int64  \n",
      " 3   Name         712 non-null    object \n",
      " 4   Sex          712 non-null    object \n",
      " 5   Age          576 non-null    float64\n",
      " 6   SibSp        712 non-null    int64  \n",
      " 7   Parch        712 non-null    int64  \n",
      " 8   Ticket       712 non-null    object \n",
      " 9   Fare         712 non-null    float64\n",
      " 10  Cabin        161 non-null    object \n",
      " 11  Embarked     710 non-null    object \n",
      "dtypes: float64(2), int64(5), object(5)\n",
      "memory usage: 72.3+ KB\n"
     ]
    }
   ],
   "source": [
    "strat_train_set.info()"
   ]
  },
  {
   "cell_type": "markdown",
   "id": "aee263bc",
   "metadata": {
    "papermill": {
     "duration": 0.011123,
     "end_time": "2023-01-21T08:15:20.155135",
     "exception": false,
     "start_time": "2023-01-21T08:15:20.144012",
     "status": "completed"
    },
    "tags": []
   },
   "source": [
    "## Imputing missing \"Age\" values"
   ]
  },
  {
   "cell_type": "code",
   "execution_count": 10,
   "id": "9a8ea881",
   "metadata": {
    "execution": {
     "iopub.execute_input": "2023-01-21T08:15:20.189698Z",
     "iopub.status.busy": "2023-01-21T08:15:20.188647Z",
     "iopub.status.idle": "2023-01-21T08:15:20.342879Z",
     "shell.execute_reply": "2023-01-21T08:15:20.341794Z"
    },
    "papermill": {
     "duration": 0.175537,
     "end_time": "2023-01-21T08:15:20.345630",
     "exception": false,
     "start_time": "2023-01-21T08:15:20.170093",
     "status": "completed"
    },
    "tags": []
   },
   "outputs": [],
   "source": [
    "from sklearn.base import BaseEstimator, TransformerMixin\n",
    "from sklearn.impute import SimpleImputer\n",
    "\n",
    "class AgeImputer (BaseEstimator, TransformerMixin):\n",
    "    def fit(self,X,y=None):\n",
    "        return self\n",
    "    def transform (self,X):\n",
    "        imputer= SimpleImputer(strategy=\"mean\")\n",
    "        X['Age']= imputer.fit_transform(X[['Age']])\n",
    "        return X"
   ]
  },
  {
   "cell_type": "markdown",
   "id": "ed7afa5c",
   "metadata": {
    "papermill": {
     "duration": 0.01092,
     "end_time": "2023-01-21T08:15:20.367799",
     "exception": false,
     "start_time": "2023-01-21T08:15:20.356879",
     "status": "completed"
    },
    "tags": []
   },
   "source": [
    "## Transforming \"Embarked\" and \"Sex\" Coulumns"
   ]
  },
  {
   "cell_type": "code",
   "execution_count": 11,
   "id": "3fce1b88",
   "metadata": {
    "execution": {
     "iopub.execute_input": "2023-01-21T08:15:20.392194Z",
     "iopub.status.busy": "2023-01-21T08:15:20.391721Z",
     "iopub.status.idle": "2023-01-21T08:15:20.401330Z",
     "shell.execute_reply": "2023-01-21T08:15:20.399805Z"
    },
    "papermill": {
     "duration": 0.025378,
     "end_time": "2023-01-21T08:15:20.404198",
     "exception": false,
     "start_time": "2023-01-21T08:15:20.378820",
     "status": "completed"
    },
    "tags": []
   },
   "outputs": [],
   "source": [
    "from sklearn.preprocessing import OneHotEncoder\n",
    "\n",
    "class FeatureEncoder (BaseEstimator, TransformerMixin):\n",
    "    \n",
    "    def fit(self,X,y=None):\n",
    "        return self\n",
    "    \n",
    "    def transform (self,X):\n",
    "        \n",
    "        encoder = OneHotEncoder()\n",
    "        matrix = encoder.fit_transform(X[[\"Embarked\"]]).toarray()\n",
    "        coulmn_names = [\"C\",\"S\",\"Q\",\"N\"]\n",
    "        \n",
    "        for i in range(len(matrix.T)):\n",
    "            X[coulmn_names[i]]= matrix.T[i]\n",
    "            \n",
    "        matrix = encoder.fit_transform(X[[\"Sex\"]]).toarray()\n",
    "        coulmn_names = [\"Male\",\"Female\"]\n",
    "        \n",
    "        for i in range(len(matrix.T)):\n",
    "            X[coulmn_names[i]]= matrix.T[i]\n",
    "            \n",
    "        return X"
   ]
  },
  {
   "cell_type": "markdown",
   "id": "7364ad90",
   "metadata": {
    "papermill": {
     "duration": 0.011081,
     "end_time": "2023-01-21T08:15:20.426781",
     "exception": false,
     "start_time": "2023-01-21T08:15:20.415700",
     "status": "completed"
    },
    "tags": []
   },
   "source": [
    "## Dropping irrelevant features"
   ]
  },
  {
   "cell_type": "code",
   "execution_count": 12,
   "id": "c94e9a33",
   "metadata": {
    "execution": {
     "iopub.execute_input": "2023-01-21T08:15:20.452117Z",
     "iopub.status.busy": "2023-01-21T08:15:20.451001Z",
     "iopub.status.idle": "2023-01-21T08:15:20.457024Z",
     "shell.execute_reply": "2023-01-21T08:15:20.456162Z"
    },
    "papermill": {
     "duration": 0.020852,
     "end_time": "2023-01-21T08:15:20.459338",
     "exception": false,
     "start_time": "2023-01-21T08:15:20.438486",
     "status": "completed"
    },
    "tags": []
   },
   "outputs": [],
   "source": [
    "class FeatureDropper (BaseEstimator, TransformerMixin):\n",
    "    \n",
    "    def fit(self,X,y=None):\n",
    "        return self\n",
    "    \n",
    "    def transform (self,X):\n",
    "        return X.drop([\"Embarked\",\"Name\",\"Ticket\",\"Cabin\",\"Sex\",\"N\"], axis=1, errors=\"ignore\")"
   ]
  },
  {
   "cell_type": "markdown",
   "id": "10e6f837",
   "metadata": {
    "papermill": {
     "duration": 0.01094,
     "end_time": "2023-01-21T08:15:20.481520",
     "exception": false,
     "start_time": "2023-01-21T08:15:20.470580",
     "status": "completed"
    },
    "tags": []
   },
   "source": [
    "## Creating the pipeline"
   ]
  },
  {
   "cell_type": "code",
   "execution_count": 13,
   "id": "2df1df6a",
   "metadata": {
    "execution": {
     "iopub.execute_input": "2023-01-21T08:15:20.506206Z",
     "iopub.status.busy": "2023-01-21T08:15:20.505547Z",
     "iopub.status.idle": "2023-01-21T08:15:20.513140Z",
     "shell.execute_reply": "2023-01-21T08:15:20.512256Z"
    },
    "papermill": {
     "duration": 0.022899,
     "end_time": "2023-01-21T08:15:20.515657",
     "exception": false,
     "start_time": "2023-01-21T08:15:20.492758",
     "status": "completed"
    },
    "tags": []
   },
   "outputs": [],
   "source": [
    "from sklearn.pipeline import Pipeline\n",
    "\n",
    "pipeline = Pipeline([(\"ageimputer\",AgeImputer()),\n",
    "                     (\"featureencoder\", FeatureEncoder()),\n",
    "                     (\"featuredropper\",FeatureDropper())])"
   ]
  },
  {
   "cell_type": "markdown",
   "id": "7bc76d3d",
   "metadata": {
    "papermill": {
     "duration": 0.010959,
     "end_time": "2023-01-21T08:15:20.537819",
     "exception": false,
     "start_time": "2023-01-21T08:15:20.526860",
     "status": "completed"
    },
    "tags": []
   },
   "source": [
    "## Transforming Stratified dataset"
   ]
  },
  {
   "cell_type": "code",
   "execution_count": 14,
   "id": "dc73ca4e",
   "metadata": {
    "execution": {
     "iopub.execute_input": "2023-01-21T08:15:20.562343Z",
     "iopub.status.busy": "2023-01-21T08:15:20.561716Z",
     "iopub.status.idle": "2023-01-21T08:15:20.577935Z",
     "shell.execute_reply": "2023-01-21T08:15:20.576575Z"
    },
    "papermill": {
     "duration": 0.031852,
     "end_time": "2023-01-21T08:15:20.580878",
     "exception": false,
     "start_time": "2023-01-21T08:15:20.549026",
     "status": "completed"
    },
    "tags": []
   },
   "outputs": [],
   "source": [
    "#strat_train_set\n",
    "strat_train_set = pipeline.fit_transform(strat_train_set)\n",
    "#help(pipeline.fit_transform([strat_train_set]))"
   ]
  },
  {
   "cell_type": "markdown",
   "id": "f750c3e4",
   "metadata": {
    "papermill": {
     "duration": 0.010973,
     "end_time": "2023-01-21T08:15:20.603536",
     "exception": false,
     "start_time": "2023-01-21T08:15:20.592563",
     "status": "completed"
    },
    "tags": []
   },
   "source": [
    "## Scaling Strat dataset"
   ]
  },
  {
   "cell_type": "code",
   "execution_count": 15,
   "id": "264323f1",
   "metadata": {
    "execution": {
     "iopub.execute_input": "2023-01-21T08:15:20.628298Z",
     "iopub.status.busy": "2023-01-21T08:15:20.627594Z",
     "iopub.status.idle": "2023-01-21T08:15:20.638605Z",
     "shell.execute_reply": "2023-01-21T08:15:20.637640Z"
    },
    "papermill": {
     "duration": 0.026608,
     "end_time": "2023-01-21T08:15:20.641422",
     "exception": false,
     "start_time": "2023-01-21T08:15:20.614814",
     "status": "completed"
    },
    "tags": []
   },
   "outputs": [],
   "source": [
    "from sklearn.preprocessing import StandardScaler\n",
    "\n",
    "X = strat_train_set.drop(['Survived'],axis=1)\n",
    "y = strat_train_set['Survived']\n",
    "scaler = StandardScaler()\n",
    "X_Data = scaler.fit_transform(X)\n",
    "y_Data = y.to_numpy()"
   ]
  },
  {
   "cell_type": "code",
   "execution_count": 16,
   "id": "a8c967f1",
   "metadata": {
    "execution": {
     "iopub.execute_input": "2023-01-21T08:15:20.666755Z",
     "iopub.status.busy": "2023-01-21T08:15:20.666113Z",
     "iopub.status.idle": "2023-01-21T08:15:20.673616Z",
     "shell.execute_reply": "2023-01-21T08:15:20.672592Z"
    },
    "papermill": {
     "duration": 0.022889,
     "end_time": "2023-01-21T08:15:20.675714",
     "exception": false,
     "start_time": "2023-01-21T08:15:20.652825",
     "status": "completed"
    },
    "tags": []
   },
   "outputs": [
    {
     "data": {
      "text/plain": [
       "array([[ 6.46545067e-01, -1.56828591e+00, -1.95373807e-01, ...,\n",
       "         6.11978247e-01, -7.35612358e-01,  7.35612358e-01],\n",
       "       [ 1.73882102e+00, -1.56828591e+00, -2.73118410e-01, ...,\n",
       "        -1.63404501e+00, -7.35612358e-01,  7.35612358e-01],\n",
       "       [-3.60517868e-01,  8.27893418e-01, -2.76204314e-16, ...,\n",
       "         6.11978247e-01,  1.35941164e+00, -1.35941164e+00],\n",
       "       ...,\n",
       "       [-1.64645977e+00, -3.70196244e-01,  1.98147507e+00, ...,\n",
       "         6.11978247e-01,  1.35941164e+00, -1.35941164e+00],\n",
       "       [-1.08752134e-01, -1.56828591e+00,  2.71093811e-01, ...,\n",
       "        -1.63404501e+00,  1.35941164e+00, -1.35941164e+00],\n",
       "       [-8.56302698e-01, -3.70196244e-01,  3.78600019e-02, ...,\n",
       "         6.11978247e-01, -7.35612358e-01,  7.35612358e-01]])"
      ]
     },
     "execution_count": 16,
     "metadata": {},
     "output_type": "execute_result"
    }
   ],
   "source": [
    "X_Data"
   ]
  },
  {
   "cell_type": "markdown",
   "id": "71f98de9",
   "metadata": {
    "papermill": {
     "duration": 0.010961,
     "end_time": "2023-01-21T08:15:20.697794",
     "exception": false,
     "start_time": "2023-01-21T08:15:20.686833",
     "status": "completed"
    },
    "tags": []
   },
   "source": [
    "# Training strat Dataset"
   ]
  },
  {
   "cell_type": "code",
   "execution_count": 17,
   "id": "5ebcf8c0",
   "metadata": {
    "execution": {
     "iopub.execute_input": "2023-01-21T08:15:20.722319Z",
     "iopub.status.busy": "2023-01-21T08:15:20.721671Z",
     "iopub.status.idle": "2023-01-21T08:16:46.648503Z",
     "shell.execute_reply": "2023-01-21T08:16:46.647399Z"
    },
    "papermill": {
     "duration": 85.953469,
     "end_time": "2023-01-21T08:16:46.662408",
     "exception": false,
     "start_time": "2023-01-21T08:15:20.708939",
     "status": "completed"
    },
    "tags": []
   },
   "outputs": [
    {
     "data": {
      "text/plain": [
       "GridSearchCV(cv=3, estimator=RandomForestClassifier(),\n",
       "             param_grid=[{'max_depth': [None, 5, 10],\n",
       "                          'min_samples_split': [2, 3, 4],\n",
       "                          'n_estimators': [100, 300, 500, 700]}],\n",
       "             return_train_score=True, scoring='accuracy')"
      ]
     },
     "execution_count": 17,
     "metadata": {},
     "output_type": "execute_result"
    }
   ],
   "source": [
    "from sklearn.ensemble import RandomForestClassifier\n",
    "from sklearn.model_selection import GridSearchCV\n",
    "\n",
    "clf = RandomForestClassifier()\n",
    "\n",
    "param_grid = [{\"n_estimators\":[100,300,500,700],\"max_depth\":[None,5,10],\"min_samples_split\":[2,3,4]}]\n",
    "grid_search = GridSearchCV(clf,param_grid,cv=3,scoring=\"accuracy\",return_train_score=True)\n",
    "grid_search.fit(X_Data,y_Data)"
   ]
  },
  {
   "cell_type": "markdown",
   "id": "ae93c032",
   "metadata": {
    "papermill": {
     "duration": 0.011067,
     "end_time": "2023-01-21T08:16:46.684909",
     "exception": false,
     "start_time": "2023-01-21T08:16:46.673842",
     "status": "completed"
    },
    "tags": []
   },
   "source": [
    "## Identifying Best Estimator"
   ]
  },
  {
   "cell_type": "code",
   "execution_count": 18,
   "id": "77a77ec3",
   "metadata": {
    "execution": {
     "iopub.execute_input": "2023-01-21T08:16:46.710254Z",
     "iopub.status.busy": "2023-01-21T08:16:46.709836Z",
     "iopub.status.idle": "2023-01-21T08:16:46.717352Z",
     "shell.execute_reply": "2023-01-21T08:16:46.716226Z"
    },
    "papermill": {
     "duration": 0.022886,
     "end_time": "2023-01-21T08:16:46.719713",
     "exception": false,
     "start_time": "2023-01-21T08:16:46.696827",
     "status": "completed"
    },
    "tags": []
   },
   "outputs": [
    {
     "data": {
      "text/plain": [
       "RandomForestClassifier(min_samples_split=4)"
      ]
     },
     "execution_count": 18,
     "metadata": {},
     "output_type": "execute_result"
    }
   ],
   "source": [
    "final_clf = grid_search.best_estimator_\n",
    "final_clf"
   ]
  },
  {
   "cell_type": "markdown",
   "id": "ac658943",
   "metadata": {
    "papermill": {
     "duration": 0.011764,
     "end_time": "2023-01-21T08:16:46.743566",
     "exception": false,
     "start_time": "2023-01-21T08:16:46.731802",
     "status": "completed"
    },
    "tags": []
   },
   "source": [
    "## Accuracy Score"
   ]
  },
  {
   "cell_type": "code",
   "execution_count": 19,
   "id": "24744fee",
   "metadata": {
    "execution": {
     "iopub.execute_input": "2023-01-21T08:16:46.768535Z",
     "iopub.status.busy": "2023-01-21T08:16:46.768104Z",
     "iopub.status.idle": "2023-01-21T08:16:46.800612Z",
     "shell.execute_reply": "2023-01-21T08:16:46.799472Z"
    },
    "papermill": {
     "duration": 0.047869,
     "end_time": "2023-01-21T08:16:46.802960",
     "exception": false,
     "start_time": "2023-01-21T08:16:46.755091",
     "status": "completed"
    },
    "tags": []
   },
   "outputs": [
    {
     "data": {
      "text/plain": [
       "0.9662921348314607"
      ]
     },
     "execution_count": 19,
     "metadata": {},
     "output_type": "execute_result"
    }
   ],
   "source": [
    "final_clf.score(X_Data,y_Data)"
   ]
  },
  {
   "cell_type": "markdown",
   "id": "0ba71397",
   "metadata": {
    "papermill": {
     "duration": 0.011362,
     "end_time": "2023-01-21T08:16:46.826087",
     "exception": false,
     "start_time": "2023-01-21T08:16:46.814725",
     "status": "completed"
    },
    "tags": []
   },
   "source": [
    "# Working on the Full Dataset"
   ]
  },
  {
   "cell_type": "markdown",
   "id": "b2cb9836",
   "metadata": {
    "papermill": {
     "duration": 0.011354,
     "end_time": "2023-01-21T08:16:46.849063",
     "exception": false,
     "start_time": "2023-01-21T08:16:46.837709",
     "status": "completed"
    },
    "tags": []
   },
   "source": [
    "## Scaling Full Dataset"
   ]
  },
  {
   "cell_type": "code",
   "execution_count": 20,
   "id": "85151543",
   "metadata": {
    "execution": {
     "iopub.execute_input": "2023-01-21T08:16:46.874259Z",
     "iopub.status.busy": "2023-01-21T08:16:46.873853Z",
     "iopub.status.idle": "2023-01-21T08:16:46.898126Z",
     "shell.execute_reply": "2023-01-21T08:16:46.896840Z"
    },
    "papermill": {
     "duration": 0.040137,
     "end_time": "2023-01-21T08:16:46.900771",
     "exception": false,
     "start_time": "2023-01-21T08:16:46.860634",
     "status": "completed"
    },
    "tags": []
   },
   "outputs": [],
   "source": [
    "#Scaling Production Data\n",
    "\n",
    "from sklearn.preprocessing import StandardScaler\n",
    "\n",
    "prod_clf = pipeline.fit_transform(titanic_data)\n",
    "\n",
    "X = prod_clf.drop(['Survived'],axis=1)\n",
    "y = prod_clf['Survived']\n",
    "scaler = StandardScaler()\n",
    "X_Prod_Data = scaler.fit_transform(X)\n",
    "y_Prod_Data = y.to_numpy()"
   ]
  },
  {
   "cell_type": "markdown",
   "id": "62b48b37",
   "metadata": {
    "papermill": {
     "duration": 0.011477,
     "end_time": "2023-01-21T08:16:46.924453",
     "exception": false,
     "start_time": "2023-01-21T08:16:46.912976",
     "status": "completed"
    },
    "tags": []
   },
   "source": [
    "## The Production Classifier"
   ]
  },
  {
   "cell_type": "code",
   "execution_count": 21,
   "id": "27ca3234",
   "metadata": {
    "execution": {
     "iopub.execute_input": "2023-01-21T08:16:46.949439Z",
     "iopub.status.busy": "2023-01-21T08:16:46.949006Z",
     "iopub.status.idle": "2023-01-21T08:18:17.871945Z",
     "shell.execute_reply": "2023-01-21T08:18:17.870669Z"
    },
    "papermill": {
     "duration": 90.949788,
     "end_time": "2023-01-21T08:18:17.886032",
     "exception": false,
     "start_time": "2023-01-21T08:16:46.936244",
     "status": "completed"
    },
    "tags": []
   },
   "outputs": [
    {
     "data": {
      "text/plain": [
       "GridSearchCV(cv=3, estimator=RandomForestClassifier(),\n",
       "             param_grid=[{'max_depth': [None, 5, 10],\n",
       "                          'min_samples_split': [2, 3, 4],\n",
       "                          'n_estimators': [100, 300, 500, 700]}],\n",
       "             return_train_score=True, scoring='accuracy')"
      ]
     },
     "execution_count": 21,
     "metadata": {},
     "output_type": "execute_result"
    }
   ],
   "source": [
    "#The Production Classifier\n",
    "from sklearn.ensemble import RandomForestClassifier\n",
    "from sklearn.model_selection import GridSearchCV\n",
    "\n",
    "prod_clf = RandomForestClassifier()\n",
    "param_grid = [{\"n_estimators\":[100,300,500,700],\"max_depth\":[None,5,10],\"min_samples_split\":[2,3,4]}]\n",
    "grid_search = GridSearchCV(prod_clf,param_grid,cv=3,scoring=\"accuracy\",return_train_score=True)\n",
    "grid_search.fit(X_Prod_Data,y_Prod_Data)"
   ]
  },
  {
   "cell_type": "markdown",
   "id": "eec46a74",
   "metadata": {
    "papermill": {
     "duration": 0.011699,
     "end_time": "2023-01-21T08:18:17.909745",
     "exception": false,
     "start_time": "2023-01-21T08:18:17.898046",
     "status": "completed"
    },
    "tags": []
   },
   "source": [
    "## Identifying Best Estimator"
   ]
  },
  {
   "cell_type": "code",
   "execution_count": 22,
   "id": "f6a71c71",
   "metadata": {
    "execution": {
     "iopub.execute_input": "2023-01-21T08:18:17.936481Z",
     "iopub.status.busy": "2023-01-21T08:18:17.935778Z",
     "iopub.status.idle": "2023-01-21T08:18:17.942248Z",
     "shell.execute_reply": "2023-01-21T08:18:17.941410Z"
    },
    "papermill": {
     "duration": 0.022037,
     "end_time": "2023-01-21T08:18:17.944318",
     "exception": false,
     "start_time": "2023-01-21T08:18:17.922281",
     "status": "completed"
    },
    "tags": []
   },
   "outputs": [
    {
     "data": {
      "text/plain": [
       "RandomForestClassifier(max_depth=5, min_samples_split=3)"
      ]
     },
     "execution_count": 22,
     "metadata": {},
     "output_type": "execute_result"
    }
   ],
   "source": [
    "prod_clf = grid_search.best_estimator_\n",
    "prod_clf"
   ]
  },
  {
   "cell_type": "markdown",
   "id": "60e2bd66",
   "metadata": {
    "papermill": {
     "duration": 0.011665,
     "end_time": "2023-01-21T08:18:17.968548",
     "exception": false,
     "start_time": "2023-01-21T08:18:17.956883",
     "status": "completed"
    },
    "tags": []
   },
   "source": [
    "# Final Accuracy Score"
   ]
  },
  {
   "cell_type": "code",
   "execution_count": 23,
   "id": "0068d391",
   "metadata": {
    "execution": {
     "iopub.execute_input": "2023-01-21T08:18:17.995672Z",
     "iopub.status.busy": "2023-01-21T08:18:17.995054Z",
     "iopub.status.idle": "2023-01-21T08:18:18.026333Z",
     "shell.execute_reply": "2023-01-21T08:18:18.025192Z"
    },
    "papermill": {
     "duration": 0.047917,
     "end_time": "2023-01-21T08:18:18.028931",
     "exception": false,
     "start_time": "2023-01-21T08:18:17.981014",
     "status": "completed"
    },
    "tags": []
   },
   "outputs": [
    {
     "data": {
      "text/plain": [
       "0.8462401795735129"
      ]
     },
     "execution_count": 23,
     "metadata": {},
     "output_type": "execute_result"
    }
   ],
   "source": [
    "prod_clf.score(X_Prod_Data,y_Prod_Data)"
   ]
  },
  {
   "cell_type": "markdown",
   "id": "8eb3a486",
   "metadata": {
    "papermill": {
     "duration": 0.012339,
     "end_time": "2023-01-21T08:18:18.054174",
     "exception": false,
     "start_time": "2023-01-21T08:18:18.041835",
     "status": "completed"
    },
    "tags": []
   },
   "source": [
    "# Reading and Scaling Test Data"
   ]
  },
  {
   "cell_type": "code",
   "execution_count": 24,
   "id": "011c0758",
   "metadata": {
    "execution": {
     "iopub.execute_input": "2023-01-21T08:18:18.081157Z",
     "iopub.status.busy": "2023-01-21T08:18:18.080546Z",
     "iopub.status.idle": "2023-01-21T08:18:18.125104Z",
     "shell.execute_reply": "2023-01-21T08:18:18.123938Z"
    },
    "papermill": {
     "duration": 0.062071,
     "end_time": "2023-01-21T08:18:18.128538",
     "exception": false,
     "start_time": "2023-01-21T08:18:18.066467",
     "status": "completed"
    },
    "tags": []
   },
   "outputs": [],
   "source": [
    "titanic_test_data = pd.read_csv('/kaggle/input/titanic/test.csv')\n",
    "final_test_data = pipeline.fit_transform(titanic_test_data)\n",
    "final_test_data = final_test_data.fillna(method=\"ffill\")\n",
    "scaler = StandardScaler()\n",
    "Prod_test_data = scaler.fit_transform(final_test_data)"
   ]
  },
  {
   "cell_type": "markdown",
   "id": "18235cca",
   "metadata": {
    "papermill": {
     "duration": 0.012253,
     "end_time": "2023-01-21T08:18:18.153186",
     "exception": false,
     "start_time": "2023-01-21T08:18:18.140933",
     "status": "completed"
    },
    "tags": []
   },
   "source": [
    "## Predicting Test Data"
   ]
  },
  {
   "cell_type": "code",
   "execution_count": 25,
   "id": "8b6fde87",
   "metadata": {
    "execution": {
     "iopub.execute_input": "2023-01-21T08:18:18.179473Z",
     "iopub.status.busy": "2023-01-21T08:18:18.178674Z",
     "iopub.status.idle": "2023-01-21T08:18:18.208103Z",
     "shell.execute_reply": "2023-01-21T08:18:18.207205Z"
    },
    "papermill": {
     "duration": 0.045044,
     "end_time": "2023-01-21T08:18:18.210558",
     "exception": false,
     "start_time": "2023-01-21T08:18:18.165514",
     "status": "completed"
    },
    "tags": []
   },
   "outputs": [
    {
     "data": {
      "text/plain": [
       "array([0, 1, 0, 0, 1, 0, 1, 0, 1, 0, 0, 0, 1, 0, 1, 1, 0, 0, 1, 1, 0, 0,\n",
       "       1, 0, 1, 0, 1, 0, 0, 0, 0, 0, 1, 1, 0, 0, 1, 1, 0, 0, 0, 0, 0, 1,\n",
       "       1, 0, 0, 0, 1, 1, 0, 0, 1, 1, 0, 0, 0, 0, 0, 1, 0, 0, 0, 1, 0, 1,\n",
       "       1, 0, 0, 1, 1, 0, 1, 0, 1, 0, 0, 1, 0, 1, 1, 0, 0, 0, 0, 0, 1, 1,\n",
       "       1, 1, 1, 0, 1, 0, 0, 0, 1, 0, 1, 0, 1, 0, 0, 0, 1, 0, 0, 0, 0, 0,\n",
       "       0, 1, 1, 1, 1, 0, 0, 1, 0, 1, 1, 0, 1, 0, 0, 1, 0, 1, 0, 0, 0, 0,\n",
       "       0, 0, 0, 0, 0, 0, 1, 0, 0, 1, 0, 0, 0, 0, 0, 0, 0, 0, 1, 0, 0, 1,\n",
       "       0, 0, 1, 1, 0, 1, 1, 1, 1, 0, 0, 1, 0, 0, 1, 1, 0, 0, 0, 0, 0, 1,\n",
       "       1, 0, 1, 1, 0, 0, 1, 0, 1, 0, 1, 0, 0, 0, 0, 0, 0, 0, 1, 0, 1, 1,\n",
       "       0, 1, 1, 1, 0, 1, 0, 0, 1, 0, 1, 0, 0, 0, 0, 1, 0, 0, 1, 0, 1, 0,\n",
       "       1, 0, 1, 0, 1, 1, 0, 1, 0, 0, 0, 1, 0, 0, 0, 0, 0, 0, 1, 1, 1, 1,\n",
       "       0, 0, 0, 0, 1, 0, 1, 1, 1, 0, 0, 0, 0, 0, 0, 0, 1, 0, 0, 0, 1, 1,\n",
       "       0, 0, 0, 0, 1, 0, 0, 0, 1, 1, 0, 1, 0, 0, 0, 0, 1, 1, 1, 1, 1, 0,\n",
       "       0, 0, 0, 0, 0, 1, 0, 0, 0, 0, 1, 0, 0, 0, 0, 0, 0, 0, 1, 1, 0, 1,\n",
       "       0, 0, 0, 0, 0, 1, 1, 1, 0, 0, 0, 0, 0, 0, 0, 0, 1, 0, 1, 0, 0, 0,\n",
       "       1, 0, 0, 1, 0, 0, 0, 0, 0, 0, 0, 0, 0, 1, 0, 1, 0, 1, 0, 1, 1, 0,\n",
       "       0, 0, 1, 0, 1, 0, 0, 1, 0, 1, 1, 0, 1, 0, 0, 1, 1, 0, 0, 1, 0, 0,\n",
       "       1, 1, 0, 0, 0, 0, 0, 0, 1, 1, 0, 1, 0, 0, 0, 0, 0, 1, 0, 0, 0, 1,\n",
       "       0, 1, 0, 0, 1, 0, 1, 0, 0, 0, 0, 0, 1, 1, 1, 1, 1, 0, 1, 0, 0, 0])"
      ]
     },
     "execution_count": 25,
     "metadata": {},
     "output_type": "execute_result"
    }
   ],
   "source": [
    "predictions= prod_clf.predict(Prod_test_data)\n",
    "predictions"
   ]
  },
  {
   "cell_type": "markdown",
   "id": "b0abbe9c",
   "metadata": {
    "papermill": {
     "duration": 0.012839,
     "end_time": "2023-01-21T08:18:18.236124",
     "exception": false,
     "start_time": "2023-01-21T08:18:18.223285",
     "status": "completed"
    },
    "tags": []
   },
   "source": [
    "## Outputting predictions file"
   ]
  },
  {
   "cell_type": "code",
   "execution_count": 26,
   "id": "3380009e",
   "metadata": {
    "execution": {
     "iopub.execute_input": "2023-01-21T08:18:18.263053Z",
     "iopub.status.busy": "2023-01-21T08:18:18.262472Z",
     "iopub.status.idle": "2023-01-21T08:18:18.271833Z",
     "shell.execute_reply": "2023-01-21T08:18:18.270725Z"
    },
    "papermill": {
     "duration": 0.025732,
     "end_time": "2023-01-21T08:18:18.274303",
     "exception": false,
     "start_time": "2023-01-21T08:18:18.248571",
     "status": "completed"
    },
    "tags": []
   },
   "outputs": [],
   "source": [
    "#Creating Final DataFrame then exporting the output CSV file\n",
    "\n",
    "final_df = pd.DataFrame(titanic_test_data['PassengerId'])\n",
    "final_df['Survived'] = predictions\n",
    "final_df.to_csv(\"predictions.csv\", index=False)"
   ]
  }
 ],
 "metadata": {
  "kernelspec": {
   "display_name": "Python 3",
   "language": "python",
   "name": "python3"
  },
  "language_info": {
   "codemirror_mode": {
    "name": "ipython",
    "version": 3
   },
   "file_extension": ".py",
   "mimetype": "text/x-python",
   "name": "python",
   "nbconvert_exporter": "python",
   "pygments_lexer": "ipython3",
   "version": "3.7.12"
  },
  "papermill": {
   "default_parameters": {},
   "duration": 190.738757,
   "end_time": "2023-01-21T08:18:19.109422",
   "environment_variables": {},
   "exception": null,
   "input_path": "__notebook__.ipynb",
   "output_path": "__notebook__.ipynb",
   "parameters": {},
   "start_time": "2023-01-21T08:15:08.370665",
   "version": "2.3.4"
  }
 },
 "nbformat": 4,
 "nbformat_minor": 5
}
